{
 "cells": [
  {
   "cell_type": "code",
   "execution_count": 5,
   "id": "e35c160e",
   "metadata": {},
   "outputs": [
    {
     "name": "stdout",
     "output_type": "stream",
     "text": [
      "openai.text-embedding-ada.002\n",
      "openai.text-embedding-3-small\n",
      "openai.text-embedding-3-large\n",
      "openai.gpt-image-1\n",
      "openai.gpt-4o-mini-tts\n",
      "openai.gpt-4o-audio-preview\n",
      "openai.gpt-4o-mini-audio-preview\n",
      "openai.tts\n",
      "openai.tts-hd\n",
      "openai.whisper\n",
      "openai.gpt-4o-realtime-preview\n",
      "openai.gpt-4o-mini-realtime-preview\n",
      "openai.gpt-5\n",
      "openai.gpt-5.2025-08-07\n",
      "openai.gpt-5-chat\n",
      "openai.gpt-5-chat.2025-08-07\n",
      "openai.gpt-5-mini\n",
      "openai.gpt-5-mini.2025-08-07\n",
      "openai.gpt-5-nano\n",
      "openai.gpt-5-nano.2025-08-07\n",
      "openai.gpt-4.1\n",
      "openai.gpt-4.1.2025-04-14\n",
      "openai.gpt-4.1-mini\n",
      "openai.gpt-4.1-mini.2025-04-14\n",
      "openai.gpt-4.1-nano\n",
      "openai.gpt-4.1-nano.2025-04-14\n",
      "openai.gpt-4o\n",
      "openai.gpt-4o.2024-11-20\n",
      "openai.gpt-4o.2024-08-06\n",
      "openai.gpt-4o-mini\n",
      "openai.gpt-4o-mini.2024-07-18\n",
      "openai.computer-use-preview\n",
      "openai.codex-mini\n",
      "openai.o4-mini\n",
      "openai.o4-mini.2025-04-16\n",
      "openai.o3\n",
      "openai.o3.2025-04-16\n",
      "openai.o3-deep-research\n",
      "openai.o3-pro\n",
      "openai.o3-pro.2025-06-10\n",
      "openai.o3-mini\n",
      "openai.o3-mini.2025-01-31\n",
      "openai.o1\n",
      "openai.o1.2024-12-17\n",
      "openai.o1-mini\n",
      "openai.o1-mini.2024-09-12\n",
      "openai.gpt-oss-120b\n",
      "openai.gpt-oss-20b\n"
     ]
    }
   ],
   "source": [
    "import openai\n",
    "openai.api_key = \"sk-OYiuWSY5uKs89CtSPQZTCQ\"\n",
    "models = openai.models.list()\n",
    "for m in models.data:\n",
    "    if \"openai\" in m.id:\n",
    "        print(m.id)"
   ]
  },
  {
   "cell_type": "code",
   "execution_count": null,
   "id": "7d13059c",
   "metadata": {},
   "outputs": [],
   "source": []
  }
 ],
 "metadata": {
  "kernelspec": {
   "display_name": "Python 3",
   "language": "python",
   "name": "python3"
  },
  "language_info": {
   "codemirror_mode": {
    "name": "ipython",
    "version": 3
   },
   "file_extension": ".py",
   "mimetype": "text/x-python",
   "name": "python",
   "nbconvert_exporter": "python",
   "pygments_lexer": "ipython3",
   "version": "3.11.13"
  }
 },
 "nbformat": 4,
 "nbformat_minor": 5
}
